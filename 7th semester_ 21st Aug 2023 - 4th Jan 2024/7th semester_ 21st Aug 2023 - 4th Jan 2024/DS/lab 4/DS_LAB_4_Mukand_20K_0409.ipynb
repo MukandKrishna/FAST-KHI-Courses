{
  "nbformat": 4,
  "nbformat_minor": 0,
  "metadata": {
    "colab": {
      "provenance": []
    },
    "kernelspec": {
      "name": "python3",
      "display_name": "Python 3"
    },
    "language_info": {
      "name": "python"
    }
  },
  "cells": [
    {
      "cell_type": "markdown",
      "source": [
        "# QUES # 1"
      ],
      "metadata": {
        "id": "6I6FqrNlSePC"
      }
    },
    {
      "cell_type": "code",
      "execution_count": 43,
      "metadata": {
        "colab": {
          "base_uri": "https://localhost:8080/"
        },
        "id": "bns211mdSDtS",
        "outputId": "aa49c942-c4ea-4dbd-f5d0-81c43231a64a"
      },
      "outputs": [
        {
          "output_type": "stream",
          "name": "stdout",
          "text": [
            "(150, 5)\n",
            "   sepal-length  sepal-width  petal-length  petal-width        class\n",
            "0           5.1          3.5           1.4          0.2  Iris-setosa\n",
            "1           4.9          3.0           1.4          0.2  Iris-setosa\n",
            "2           4.7          3.2           1.3          0.2  Iris-setosa\n",
            "3           4.6          3.1           1.5          0.2  Iris-setosa\n",
            "4           5.0          3.6           1.4          0.2  Iris-setosa\n"
          ]
        }
      ],
      "source": [
        "# Load libraries\n",
        "import pandas as pd\n",
        "from sklearn.model_selection import train_test_split\n",
        "from sklearn.metrics import classification_report\n",
        "from sklearn.metrics import confusion_matrix\n",
        "from sklearn.metrics import accuracy_score\n",
        "from sklearn.neighbors import KNeighborsClassifier\n",
        "\n",
        "#  Load data set using pandas library\n",
        "names = ['sepal-length', 'sepal-width', 'petal-length', 'petal-width', 'class']\n",
        "dataset = pd.read_csv(\"iris.csv\", names=names,  skiprows=1)\n",
        "\n",
        "# (b) Print the size of data set\n",
        "\n",
        "print(dataset.shape)\n",
        "\n",
        "print(dataset.head())"
      ]
    },
    {
      "cell_type": "markdown",
      "source": [
        "### (c) Display the class distribution"
      ],
      "metadata": {
        "id": "XlYzKL5eSdoL"
      }
    },
    {
      "cell_type": "code",
      "source": [
        "print(dataset.groupby('class').size())"
      ],
      "metadata": {
        "colab": {
          "base_uri": "https://localhost:8080/"
        },
        "id": "B8p_v_X8TAzB",
        "outputId": "f85c9e54-b707-4aa0-9466-0ef4de6fa2a7"
      },
      "execution_count": 44,
      "outputs": [
        {
          "output_type": "stream",
          "name": "stdout",
          "text": [
            "class\n",
            "Iris-setosa        50\n",
            "Iris-versicolor    50\n",
            "Iris-virginica     50\n",
            "dtype: int64\n"
          ]
        }
      ]
    },
    {
      "cell_type": "markdown",
      "source": [
        "### (d) Now, divide your data using hold out approach (80% for training and 20% for testing) train / test dataset\n"
      ],
      "metadata": {
        "id": "bL9Pfkp4TJBi"
      }
    },
    {
      "cell_type": "code",
      "source": [
        "array = dataset.values\n",
        "X = array[:,0:4]\n",
        "Y = array[:,4]\n",
        "t_size = 0.20\n",
        "seed = 7\n",
        "X_train_iris, X_test_iris, Y_train_iris, Y_test_iris = train_test_split(X, Y, test_size=t_size, random_state=seed)\n",
        "\n",
        "print(X_test_iris)"
      ],
      "metadata": {
        "colab": {
          "base_uri": "https://localhost:8080/"
        },
        "id": "R1KhdPYHTBXM",
        "outputId": "11593012-3a08-40e2-de96-588d82fb1ad7"
      },
      "execution_count": 45,
      "outputs": [
        {
          "output_type": "stream",
          "name": "stdout",
          "text": [
            "[[5.9 3.0 5.1 1.8]\n",
            " [5.4 3.0 4.5 1.5]\n",
            " [5.0 3.5 1.3 0.3]\n",
            " [5.6 3.0 4.5 1.5]\n",
            " [4.9 2.5 4.5 1.7]\n",
            " [4.5 2.3 1.3 0.3]\n",
            " [6.9 3.1 4.9 1.5]\n",
            " [5.6 2.7 4.2 1.3]\n",
            " [4.8 3.4 1.6 0.2]\n",
            " [6.4 3.2 4.5 1.5]\n",
            " [6.7 3.0 5.0 1.7]\n",
            " [6.0 3.4 4.5 1.6]\n",
            " [5.2 4.1 1.5 0.1]\n",
            " [7.2 3.6 6.1 2.5]\n",
            " [5.2 3.4 1.4 0.2]\n",
            " [5.9 3.2 4.8 1.8]\n",
            " [6.7 2.5 5.8 1.8]\n",
            " [6.4 3.1 5.5 1.8]\n",
            " [5.1 3.8 1.6 0.2]\n",
            " [4.9 3.1 1.5 0.1]\n",
            " [5.8 2.7 3.9 1.2]\n",
            " [6.9 3.2 5.7 2.3]\n",
            " [6.1 2.9 4.7 1.4]\n",
            " [6.0 2.2 5.0 1.5]\n",
            " [7.2 3.0 5.8 1.6]\n",
            " [6.0 3.0 4.8 1.8]\n",
            " [6.2 2.9 4.3 1.3]\n",
            " [5.5 2.4 3.8 1.1]\n",
            " [5.8 2.7 5.1 1.9]\n",
            " [6.7 3.1 5.6 2.4]]\n"
          ]
        }
      ]
    },
    {
      "cell_type": "markdown",
      "source": [
        "make predictions"
      ],
      "metadata": {
        "id": "337DJvA5Tktw"
      }
    },
    {
      "cell_type": "code",
      "source": [
        "from sklearn.model_selection import train_test_split\n",
        "from sklearn.metrics import classification_report, confusion_matrix, accuracy_score\n",
        "from sklearn.neighbors import KNeighborsClassifier\n",
        "\n",
        "knn = KNeighborsClassifier()\n",
        "knn.fit(X_train_iris, Y_train_iris)\n",
        "\n",
        "predictions = knn.predict(X_test_iris)\n",
        "\n",
        "print(\"Accuracy Score: \\n\")\n",
        "print(accuracy_score(Y_test_iris, predictions))\n",
        "\n",
        "print(\"\\nConfusion Matrix: \\n\")\n",
        "print(confusion_matrix(Y_test_iris, predictions))\n",
        "\n",
        "print(\"\\nClassification : \\n\")\n",
        "print(classification_report(Y_test_iris, predictions))"
      ],
      "metadata": {
        "colab": {
          "base_uri": "https://localhost:8080/"
        },
        "id": "jIP_BOT7Tbyb",
        "outputId": "819fb416-0282-4166-9f91-27d65b3b6c71"
      },
      "execution_count": 46,
      "outputs": [
        {
          "output_type": "stream",
          "name": "stdout",
          "text": [
            "Accuracy Score: \n",
            "\n",
            "0.9\n",
            "\n",
            "Confusion Matrix: \n",
            "\n",
            "[[ 7  0  0]\n",
            " [ 0 11  1]\n",
            " [ 0  2  9]]\n",
            "\n",
            "Classification : \n",
            "\n",
            "                 precision    recall  f1-score   support\n",
            "\n",
            "    Iris-setosa       1.00      1.00      1.00         7\n",
            "Iris-versicolor       0.85      0.92      0.88        12\n",
            " Iris-virginica       0.90      0.82      0.86        11\n",
            "\n",
            "       accuracy                           0.90        30\n",
            "      macro avg       0.92      0.91      0.91        30\n",
            "   weighted avg       0.90      0.90      0.90        30\n",
            "\n"
          ]
        }
      ]
    },
    {
      "cell_type": "markdown",
      "source": [
        "(f) Repeat (e) by changing the value of k (k=1, 2, 3,...., 10). Print only accuracy"
      ],
      "metadata": {
        "id": "yA61QWmXZCr-"
      }
    },
    {
      "cell_type": "code",
      "source": [
        "print(\"Accuracy for different k values:\")\n",
        "for k in range(1, 11):\n",
        "    knn = KNeighborsClassifier(n_neighbors=k)\n",
        "    knn.fit(X_train_iris, Y_train_iris)\n",
        "    predictions = knn.predict(X_test_iris)\n",
        "    accuracy = accuracy_score(Y_test_iris, predictions)\n",
        "    print(f\"k = {k}: Accuracy = {accuracy:.4f}\")\n"
      ],
      "metadata": {
        "colab": {
          "base_uri": "https://localhost:8080/"
        },
        "id": "1kXpEzLjTsKm",
        "outputId": "77b67e9d-ddf8-4ff2-8a34-afa3821b0b01"
      },
      "execution_count": 47,
      "outputs": [
        {
          "output_type": "stream",
          "name": "stdout",
          "text": [
            "Accuracy for different k values:\n",
            "k = 1: Accuracy = 0.9000\n",
            "k = 2: Accuracy = 0.9333\n",
            "k = 3: Accuracy = 0.9000\n",
            "k = 4: Accuracy = 0.9333\n",
            "k = 5: Accuracy = 0.9000\n",
            "k = 6: Accuracy = 0.8667\n",
            "k = 7: Accuracy = 0.8667\n",
            "k = 8: Accuracy = 0.9000\n",
            "k = 9: Accuracy = 0.9000\n",
            "k = 10: Accuracy = 0.9000\n"
          ]
        }
      ]
    },
    {
      "cell_type": "markdown",
      "source": [
        "(g) Repeat (e) by changing the value of seed (seed = 1, 2, 3, .... , 10). Print only accuracy"
      ],
      "metadata": {
        "id": "z60aDskVZMMD"
      }
    },
    {
      "cell_type": "code",
      "source": [
        "print(\"\\nAccuracy for different seed values:\")\n",
        "for seed_val in range(1, 11):\n",
        "    X_train, X_test, Y_train, Y_test = train_test_split(X, Y, test_size=t_size, random_state=seed_val)\n",
        "    knn = KNeighborsClassifier()\n",
        "    knn.fit(X_train, Y_train)\n",
        "    predictions = knn.predict(X_test)\n",
        "    accuracy = accuracy_score(Y_test, predictions)\n",
        "    print(f\"Accuracy = {accuracy:.4f}\")\n"
      ],
      "metadata": {
        "colab": {
          "base_uri": "https://localhost:8080/"
        },
        "id": "y-atAsHjZKhd",
        "outputId": "a00e353d-254b-4ee6-a7f5-9a9fc81ee237"
      },
      "execution_count": 48,
      "outputs": [
        {
          "output_type": "stream",
          "name": "stdout",
          "text": [
            "\n",
            "Accuracy for different seed values:\n",
            "Accuracy = 1.0000\n",
            "Accuracy = 1.0000\n",
            "Accuracy = 0.9667\n",
            "Accuracy = 0.9667\n",
            "Accuracy = 0.9333\n",
            "Accuracy = 0.9667\n",
            "Accuracy = 0.9000\n",
            "Accuracy = 0.9000\n",
            "Accuracy = 1.0000\n",
            "Accuracy = 0.9667\n"
          ]
        }
      ]
    },
    {
      "cell_type": "markdown",
      "source": [
        "# QUES # 2"
      ],
      "metadata": {
        "id": "9kAa8rekZ_CV"
      }
    },
    {
      "cell_type": "code",
      "source": [
        "# Load the training dataset\n",
        "columns = ['date', 'temperature', 'humidity', 'light', 'co2', 'humidity_ratio', 'occupancy']\n",
        "train_data = pd.read_csv(\"datatraining.txt\", names=columns, header=0)\n",
        "\n",
        "# Dropping the 'date' attribute\n",
        "train_data = train_data.drop('date', axis=1)\n",
        "\n",
        "print(train_data.head())\n"
      ],
      "metadata": {
        "colab": {
          "base_uri": "https://localhost:8080/"
        },
        "id": "nzlHnVZUZS7H",
        "outputId": "bf7becaf-0e82-45a2-baa9-08672960158e"
      },
      "execution_count": 59,
      "outputs": [
        {
          "output_type": "stream",
          "name": "stdout",
          "text": [
            "   temperature  humidity  light     co2  humidity_ratio  occupancy\n",
            "1        23.18   27.2720  426.0  721.25        0.004793          1\n",
            "2        23.15   27.2675  429.5  714.00        0.004783          1\n",
            "3        23.15   27.2450  426.0  713.50        0.004779          1\n",
            "4        23.15   27.2000  426.0  708.25        0.004772          1\n",
            "5        23.10   27.2000  426.0  704.50        0.004757          1\n"
          ]
        }
      ]
    },
    {
      "cell_type": "code",
      "source": [
        "# (b) size of the dataset\n",
        "print(train_data.shape)\n",
        "\n",
        "# (c) class distribution\n",
        "print(\"\\nClass Dist:\")\n",
        "print(train_data.groupby('occupancy').size())\n"
      ],
      "metadata": {
        "colab": {
          "base_uri": "https://localhost:8080/"
        },
        "id": "QH_N-GbVbJpo",
        "outputId": "8f62d1cb-38a8-4c93-a7b3-ad2c321ac7b7"
      },
      "execution_count": 60,
      "outputs": [
        {
          "output_type": "stream",
          "name": "stdout",
          "text": [
            "(8143, 6)\n",
            "\n",
            "Class Dist:\n",
            "occupancy\n",
            "0    6414\n",
            "1    1729\n",
            "dtype: int64\n"
          ]
        }
      ]
    },
    {
      "cell_type": "code",
      "source": [
        "\n",
        "# Load the two test datasets\n",
        "test_dataset1 = pd.read_csv(\"datatest.txt\", names=columns, header=0)\n",
        "test_dataset2 = pd.read_csv(\"datatest2.txt\", names=columns, header=0)\n",
        "\n",
        "# Concatenate the two datasets\n",
        "test_dataset = pd.concat([test_dataset1, test_dataset2], ignore_index=True)\n",
        "test_dataset = test_dataset.drop('date', axis=1)\n",
        "\n",
        "# Splitting features and target variable for both training and test datasets\n",
        "X_trainOc = train_data.drop('occupancy', axis=1).values\n",
        "Y_trainOc = train_data['occupancy'].values\n",
        "X_testOc = test_dataset.drop('occupancy', axis=1).values\n",
        "Y_testOc = test_dataset['occupancy'].values\n"
      ],
      "metadata": {
        "id": "OhztGki_bQ6K"
      },
      "execution_count": 65,
      "outputs": []
    },
    {
      "cell_type": "markdown",
      "source": [
        "(e) Apply kNN classifier\n"
      ],
      "metadata": {
        "id": "QlZq43IgbSjY"
      }
    },
    {
      "cell_type": "code",
      "source": [
        "knn = KNeighborsClassifier()\n",
        "knn.fit(X_trainOc, Y_trainOc)\n",
        "\n",
        "predictions = knn.predict(X_testOc)\n",
        "\n",
        "print(\"Accuracy Score: \\n\")\n",
        "print(accuracy_score(Y_testOc, predictions))\n",
        "\n",
        "print(\"\\nConfusion Matrix: \\n\")\n",
        "print(confusion_matrix(Y_testOc, predictions))\n",
        "\n",
        "print(\"\\nClassification : \\n\")\n",
        "print(classification_report(Y_testOc, predictions))"
      ],
      "metadata": {
        "colab": {
          "base_uri": "https://localhost:8080/"
        },
        "id": "GSXPIwB2dhTz",
        "outputId": "da0476df-8bfa-4b2c-b222-034125850f8a"
      },
      "execution_count": 66,
      "outputs": [
        {
          "output_type": "stream",
          "name": "stdout",
          "text": [
            "Accuracy Score: \n",
            "\n",
            "0.9579608601111379\n",
            "\n",
            "Confusion Matrix: \n",
            "\n",
            "[[9030  366]\n",
            " [ 156 2865]]\n",
            "\n",
            "Classification : \n",
            "\n",
            "              precision    recall  f1-score   support\n",
            "\n",
            "           0       0.98      0.96      0.97      9396\n",
            "           1       0.89      0.95      0.92      3021\n",
            "\n",
            "    accuracy                           0.96     12417\n",
            "   macro avg       0.93      0.95      0.94     12417\n",
            "weighted avg       0.96      0.96      0.96     12417\n",
            "\n"
          ]
        }
      ]
    },
    {
      "cell_type": "markdown",
      "source": [
        "(f) calculating accuracy"
      ],
      "metadata": {
        "id": "y1ZWvD0NbnaJ"
      }
    },
    {
      "cell_type": "code",
      "source": [
        "\n",
        "print(\"Accuracy for different k values:\")\n",
        "for k in range(1, 11):\n",
        "    knn = KNeighborsClassifier(n_neighbors=k)\n",
        "    knn.fit(X_trainOc, Y_trainOc)\n",
        "    predictions = knn.predict(X_testOc)\n",
        "    accuracy = accuracy_score(Y_testOc, predictions)\n",
        "    print(f\"k = {k}: Accuracy = {accuracy:.4f}\")\n"
      ],
      "metadata": {
        "colab": {
          "base_uri": "https://localhost:8080/"
        },
        "id": "4qi9f4vNbknC",
        "outputId": "c71bc3b7-4f5e-4afd-adbf-b23fd0c51c36"
      },
      "execution_count": 67,
      "outputs": [
        {
          "output_type": "stream",
          "name": "stdout",
          "text": [
            "Accuracy for different k values:\n",
            "k = 1: Accuracy = 0.9473\n",
            "k = 2: Accuracy = 0.9462\n",
            "k = 3: Accuracy = 0.9530\n",
            "k = 4: Accuracy = 0.9483\n",
            "k = 5: Accuracy = 0.9580\n",
            "k = 6: Accuracy = 0.9564\n",
            "k = 7: Accuracy = 0.9641\n",
            "k = 8: Accuracy = 0.9635\n",
            "k = 9: Accuracy = 0.9648\n",
            "k = 10: Accuracy = 0.9644\n"
          ]
        }
      ]
    },
    {
      "cell_type": "markdown",
      "source": [
        "# QUES # 3"
      ],
      "metadata": {
        "id": "fNJMQC5EikJi"
      }
    },
    {
      "cell_type": "markdown",
      "source": [
        "**Counter : for counting occurrences of items in a list. In kNN algorithm, Counter is used to identify the most common label among the top k neighbors.**"
      ],
      "metadata": {
        "id": "-nX7VbOMikD5"
      }
    },
    {
      "cell_type": "code",
      "source": [
        "import numpy as np\n",
        "import pandas as pd\n",
        "from collections import Counter\n",
        "\n",
        "# Chi-squared distance function\n",
        "def chi_squared_distance(A, B):\n",
        "    return 0.5 * np.sum([((a - b) ** 2) / (a + b)\n",
        "                   for (a, b) in zip(A, B)])\n",
        "\n",
        "# kNN classifier\n",
        "def knn_classify(X_train, y_train, test_point, k=3):\n",
        "    distances = [(y, chi_squared_distance(X, test_point)) for X, y in zip(X_train, y_train)]\n",
        "    distances.sort(key=lambda x: x[1])\n",
        "    top_k_labels = [item[0] for item in distances[:k]]\n",
        "    most_common = Counter(top_k_labels).most_common(1)\n",
        "    return most_common[0][0]\n",
        "\n"
      ],
      "metadata": {
        "id": "7SR11F8Qd6UR"
      },
      "execution_count": 68,
      "outputs": []
    },
    {
      "cell_type": "code",
      "source": [
        "# using Iris dataset\n",
        "names = ['sepal-length', 'sepal-width', 'petal-length', 'petal-width', 'class']\n",
        "dataset = pd.read_csv(\"iris.csv\", names=names,  skiprows=1)\n",
        "\n",
        "array = dataset.values\n",
        "X = array[:,0:4]\n",
        "Y = array[:,4]\n",
        "t_size = 0.20\n",
        "seed = 7\n",
        "X_train, X_test, Y_train, Y_test = train_test_split(X, Y, test_size=t_size, random_state=seed)\n",
        "\n",
        "# Testing kNN classifier on Iris\n",
        "print(\"Accuracy for different k values:\")\n",
        "for k in range(1, 11):\n",
        "    y_pred = [knn_classify(X_train, Y_train, x, k=k) for x in X_test]\n",
        "    accuracy = np.mean(y_pred == Y_test)\n",
        "    print(f\"k = {k}: Accuracy = {accuracy:.4f}\")"
      ],
      "metadata": {
        "colab": {
          "base_uri": "https://localhost:8080/"
        },
        "id": "LZ8UWPgOj-H2",
        "outputId": "de31d3d1-e04c-4753-bbb8-2c47fb3d19df"
      },
      "execution_count": 69,
      "outputs": [
        {
          "output_type": "stream",
          "name": "stdout",
          "text": [
            "Accuracy for different k values:\n",
            "k = 1: Accuracy = 0.9000\n",
            "k = 2: Accuracy = 0.9000\n",
            "k = 3: Accuracy = 0.9000\n",
            "k = 4: Accuracy = 0.8667\n",
            "k = 5: Accuracy = 0.8667\n",
            "k = 6: Accuracy = 0.8667\n",
            "k = 7: Accuracy = 0.8667\n",
            "k = 8: Accuracy = 0.8667\n",
            "k = 9: Accuracy = 0.9000\n",
            "k = 10: Accuracy = 0.9000\n"
          ]
        }
      ]
    },
    {
      "cell_type": "markdown",
      "source": [
        "## for occupancy"
      ],
      "metadata": {
        "id": "ZMaKfA9Zo2-K"
      }
    },
    {
      "cell_type": "code",
      "source": [
        "# Using a smaller subset for quick verification\n",
        "X_test_sample = X_testOc[:100]\n",
        "Y_test_sample = Y_testOc[:100]\n",
        "\n",
        "print(\"Accuracy for different k values for kNN classifier:\")\n",
        "\n",
        "for k in range(1, 11):\n",
        "    y_pred = [knn_classify(X_trainOc, Y_trainOc, x, k=k) for x in X_test_sample]\n",
        "    accuracy = np.mean(y_pred == Y_test_sample)\n",
        "    print(f\"k = {k}: Accuracy = {accuracy:.4f}\")\n"
      ],
      "metadata": {
        "colab": {
          "base_uri": "https://localhost:8080/"
        },
        "id": "bsUnTo57oMfd",
        "outputId": "3c95b140-3414-4591-fef9-e8daae32023a"
      },
      "execution_count": 72,
      "outputs": [
        {
          "output_type": "stream",
          "name": "stdout",
          "text": [
            "Accuracy for different k values for kNN classifier:\n",
            "k = 1: Accuracy = 0.9200\n",
            "k = 2: Accuracy = 0.9200\n",
            "k = 3: Accuracy = 0.9000\n",
            "k = 4: Accuracy = 0.9100\n",
            "k = 5: Accuracy = 0.9400\n",
            "k = 6: Accuracy = 0.9500\n",
            "k = 7: Accuracy = 0.9500\n",
            "k = 8: Accuracy = 0.9600\n",
            "k = 9: Accuracy = 0.9500\n",
            "k = 10: Accuracy = 0.9600\n"
          ]
        }
      ]
    },
    {
      "cell_type": "code",
      "source": [],
      "metadata": {
        "id": "hLtJ51I1qcMe"
      },
      "execution_count": null,
      "outputs": []
    }
  ]
}